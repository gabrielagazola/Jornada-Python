{
 "cells": [
  {
   "cell_type": "markdown",
   "metadata": {},
   "source": [
    "# Python Insights - Analisando Dados com Python\n",
    "\n",
    "### Case - Cancelamento de Clientes\n",
    "\n",
    "Você foi contratado por uma empresa com mais de 800 mil clientes para um projeto de Dados. Recentemente a empresa percebeu que da sua base total de clientes, a maioria são clientes inativos, ou seja, que já cancelaram o serviço.\n",
    "\n",
    "Precisando melhorar seus resultados ela quer conseguir entender os principais motivos desses cancelamentos e quais as ações mais eficientes para reduzir esse número.\n",
    "\n",
    "Base de dados e arquivos: https://drive.google.com/drive/folders/1uDesZePdkhiraJmiyeZ-w5tfc8XsNYFZ?usp=drive_link"
   ]
  },
  {
   "cell_type": "code",
   "execution_count": null,
   "metadata": {},
   "outputs": [],
   "source": [
    "import pandas as pd\n",
    "\n",
    "# importando a base de dados\n",
    "tabela = pd.read_csv(\"cancelamentos.csv\")\n",
    "\n",
    "tabela = tabela.drop(\"CustomerID\", axis = 1)\n",
    "display(tabela)"
   ]
  },
  {
   "cell_type": "code",
   "execution_count": null,
   "metadata": {},
   "outputs": [],
   "source": [
    "#identificar e remover valores vazios\n",
    "display(tabela.info())\n",
    "tabela = tabela.dropna() #remove campos vazios\n",
    "display(tabela.info())"
   ]
  },
  {
   "cell_type": "code",
   "execution_count": null,
   "metadata": {},
   "outputs": [],
   "source": [
    "#analisar taxa de cancelamento da empresa\n",
    "#quantas pessoas cancelaram e não cancelaram\n",
    "display(tabela[\"cancelou\"].value_counts()) #verifica a quantidade de valores que temos na coluna \"cancelou\"\n",
    "display(tabela[\"cancelou\"].value_counts(normalize = True).map(\"{:.1%}\".format))#normalize e formata o resultado em percentual"
   ]
  },
  {
   "cell_type": "code",
   "execution_count": null,
   "metadata": {},
   "outputs": [],
   "source": [
    "#analisar a duração de contrato mensal dos clientes\n",
    "display(tabela[\"duracao_contrato\"].value_counts())\n",
    "display(tabela.groupby(\"duracao_contrato\").mean(numeric_only=True))#agrupa as informaçoes da coluna duraçao_contrato e depois faz a media das informaçoes da tabela\n",
    "\n",
    "#podemos visualizar que a média de cancelamento de contrato é 1, ou que seja quase todos os contratos mensais foram cancelados"
   ]
  },
  {
   "cell_type": "code",
   "execution_count": null,
   "metadata": {},
   "outputs": [],
   "source": [
    "#removendo o contrato mensal para continuar analisando\n",
    "tabela = tabela[tabela[\"duracao_contrato\"]!=\"Monthly\"]\n",
    "display(tabela)\n",
    "display(tabela[\"cancelou\"].value_counts())\n",
    "display(tabela[\"cancelou\"].value_counts(normalize = True).map(\"{:.1%}\".format))"
   ]
  },
  {
   "cell_type": "code",
   "execution_count": null,
   "metadata": {},
   "outputs": [],
   "source": [
    "#analisar as assinaturas dos clientes\n",
    "display(tabela[\"assinatura\"].value_counts(normalize=True))\n",
    "display(tabela.groupby(\"assinatura\").mean(numeric_only=True))#agrupar informaçoes por assinatura e fazer a media\n",
    "\n",
    "#dados praticamente iguais em cada assinatura"
   ]
  },
  {
   "cell_type": "code",
   "execution_count": null,
   "metadata": {},
   "outputs": [],
   "source": [
    "#criar gráficos para melhoras visualizar e analisar os dados\n",
    "import plotly.express as px\n",
    "\n",
    "for coluna in tabela.columns: #percorre todas as colunas da tabela\n",
    "    grafico = px.histogram(tabela, x=coluna, color=\"cancelou\", width=600)#cria um grafico de histograma para cada uma das colunas da tabela\n",
    "    grafico.show()\n",
    "    "
   ]
  },
  {
   "cell_type": "code",
   "execution_count": null,
   "metadata": {},
   "outputs": [],
   "source": [
    "#Analisando os graficos Dias de atraso e ligações ao call center, podemos notar que clientes com \n",
    "#mais de 20 dias de atraso cancelam sua assinatura, clientes com mais de 5 ligações realizadas \n",
    "#cancelam suas assinaturas\n",
    "\n",
    "tabela = tabela[tabela[\"ligacoes_callcenter\"]<5]\n",
    "tabela = tabela[tabela[\"dias_atraso\"]<=20]\n",
    "display(tabela)\n",
    "\n",
    "display(tabela[\"cancelou\"].value_counts())\n",
    "display(tabela[\"cancelou\"].value_counts(normalize = True).map(\"{:.1%}\".format))\n",
    "\n",
    "#removendo essas duas informaçoes podemos notar a queda do percentual de cancelamentopara 18,4%"
   ]
  }
 ],
 "metadata": {
  "kernelspec": {
   "display_name": "base",
   "language": "python",
   "name": "python3"
  },
  "language_info": {
   "codemirror_mode": {
    "name": "ipython",
    "version": 3
   },
   "file_extension": ".py",
   "mimetype": "text/x-python",
   "name": "python",
   "nbconvert_exporter": "python",
   "pygments_lexer": "ipython3",
   "version": "3.10.12"
  },
  "orig_nbformat": 4
 },
 "nbformat": 4,
 "nbformat_minor": 2
}
